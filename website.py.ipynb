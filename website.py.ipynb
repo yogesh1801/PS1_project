{
 "cells": [
  {
   "cell_type": "code",
   "execution_count": null,
   "id": "e282b2a5",
   "metadata": {},
   "outputs": [
    {
     "name": "stdout",
     "output_type": "stream",
     "text": [
      " * Serving Flask app '__main__'\n",
      " * Debug mode: off\n"
     ]
    },
    {
     "name": "stderr",
     "output_type": "stream",
     "text": [
      "WARNING: This is a development server. Do not use it in a production deployment. Use a production WSGI server instead.\n",
      " * Running on http://127.0.0.1:5000\n",
      "Press CTRL+C to quit\n",
      "127.0.0.1 - - [19/Jul/2023 02:16:41] \"GET / HTTP/1.1\" 200 -\n",
      "127.0.0.1 - - [19/Jul/2023 02:17:03] \"POST / HTTP/1.1\" 200 -\n",
      "127.0.0.1 - - [19/Jul/2023 02:17:36] \"POST / HTTP/1.1\" 200 -\n"
     ]
    }
   ],
   "source": [
    "from flask import Flask, render_template, request\n",
    "import numpy as np\n",
    "import pickle\n",
    "\n",
    "app = Flask(__name__,template_folder='C:/Users/ASUS/Desktop/project_final')\n",
    "\n",
    "with open(\"RFmodel.pkl\", 'rb') as file:\n",
    "    RFmodel = pickle.load(file)\n",
    "\n",
    "@app.route('/', methods=['GET', 'POST'])\n",
    "def home():\n",
    "    if request.method == 'POST':\n",
    "        inputs = []\n",
    "        age = float(request.form[\"age\"])\n",
    "        inputs.append(age)\n",
    "        BMI = float(request.form[\"BMI\"])\n",
    "        inputs.append(BMI)\n",
    "        children = float(request.form[\"children\"])\n",
    "        inputs.append(children)\n",
    "        sex = str(request.form[\"sex\"])\n",
    "        if sex == \"male\":\n",
    "            sex = float(1)\n",
    "        else:\n",
    "            sex = float(0)\n",
    "        inputs.append(sex)\n",
    "            \n",
    "        smoker = str(request.form[\"smoker\"])\n",
    "        if smoker == \"yes\":\n",
    "            smoker = float(1)\n",
    "        else:\n",
    "            smoker = float(0)\n",
    "        inputs.append(smoker)\n",
    "        \n",
    "        regionsobj = {\n",
    "            \"northwest\": 0,\n",
    "            \"northeast\": 0,\n",
    "            \"southwest\": 0,\n",
    "            \"southeast\": 0\n",
    "        }\n",
    "        region = str(request.form[\"region\"])\n",
    "        regionsobj[region] = 1\n",
    "        inputs.append(float(regionsobj[\"northwest\"]))\n",
    "        inputs.append(float(regionsobj[\"northeast\"]))\n",
    "        inputs.append(float(regionsobj[\"southwest\"]))\n",
    "        inputs.append(float(regionsobj[\"southeast\"]))\n",
    "\n",
    "        input_array = np.array(inputs).reshape(1, -1)\n",
    "\n",
    "        # Pass the input array to your model\n",
    "        predicted_value = RFmodel.predict(input_array)\n",
    "\n",
    "        # Retrieve the predicted value (assuming a single-element output)\n",
    "        predicted_value = round(predicted_value[0],2)\n",
    "\n",
    "        return render_template('index.html', prediction=predicted_value)\n",
    "    \n",
    "    return render_template('index.html')\n",
    "\n",
    "if __name__ == '__main__':\n",
    "    app.run()\n"
   ]
  },
  {
   "cell_type": "code",
   "execution_count": null,
   "id": "781561da",
   "metadata": {},
   "outputs": [],
   "source": []
  }
 ],
 "metadata": {
  "kernelspec": {
   "display_name": "Python 3 (ipykernel)",
   "language": "python",
   "name": "python3"
  },
  "language_info": {
   "codemirror_mode": {
    "name": "ipython",
    "version": 3
   },
   "file_extension": ".py",
   "mimetype": "text/x-python",
   "name": "python",
   "nbconvert_exporter": "python",
   "pygments_lexer": "ipython3",
   "version": "3.10.9"
  }
 },
 "nbformat": 4,
 "nbformat_minor": 5
}
